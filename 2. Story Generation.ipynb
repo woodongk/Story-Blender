{
 "cells": [
  {
   "cell_type": "markdown",
   "metadata": {},
   "source": [
    "# Seq2Seq\n",
    "### Neural Machine Translation using word level language model and embeddings in Keras\n",
    "\n",
    "- https://medium.com/@dev.elect.iitd/neural-machine-translation-using-word-level-seq2seq-model-47538cba8cd7\n",
    "- https://github.com/keras-team/keras/blob/master/examples/lstm_seq2seq.py\n",
    "- https://machinelearningmastery.com/define-encoder-decoder-sequence-sequence-model-neural-machine-translation-keras/\n",
    "- https://machinelearningmastery.com/develop-encoder-decoder-model-sequence-sequence-prediction-keras/\n",
    "\n",
    "---"
   ]
  },
  {
   "cell_type": "code",
   "execution_count": 1,
   "metadata": {
    "ExecuteTime": {
     "end_time": "2020-09-16T09:48:21.206430Z",
     "start_time": "2020-09-16T09:48:20.495357Z"
    },
    "scrolled": true
   },
   "outputs": [],
   "source": [
    "import pandas as pd\n",
    "import numpy as np\n",
    "\n",
    "import string\n",
    "from itertools import chain\n",
    "import pickle\n",
    "import re\n",
    "\n",
    "from string import digits\n",
    "\n",
    "import matplotlib.pyplot as plt"
   ]
  },
  {
   "cell_type": "markdown",
   "metadata": {},
   "source": [
    "# Load Data"
   ]
  },
  {
   "cell_type": "code",
   "execution_count": 107,
   "metadata": {
    "ExecuteTime": {
     "end_time": "2020-09-16T09:48:21.302173Z",
     "start_time": "2020-09-16T09:48:21.240339Z"
    }
   },
   "outputs": [
    {
     "name": "stdout",
     "output_type": "stream",
     "text": [
      "before:  (145116, 4)\n",
      "after:  (30000, 2)\n"
     ]
    },
    {
     "data": {
      "text/html": [
       "<div>\n",
       "<style scoped>\n",
       "    .dataframe tbody tr th:only-of-type {\n",
       "        vertical-align: middle;\n",
       "    }\n",
       "\n",
       "    .dataframe tbody tr th {\n",
       "        vertical-align: top;\n",
       "    }\n",
       "\n",
       "    .dataframe thead th {\n",
       "        text-align: right;\n",
       "    }\n",
       "</style>\n",
       "<table border=\"1\" class=\"dataframe\">\n",
       "  <thead>\n",
       "    <tr style=\"text-align: right;\">\n",
       "      <th></th>\n",
       "      <th>Desc</th>\n",
       "      <th>Story</th>\n",
       "    </tr>\n",
       "  </thead>\n",
       "  <tbody>\n",
       "    <tr>\n",
       "      <th>0</th>\n",
       "      <td>big old tree being photographed on a sunny day</td>\n",
       "      <td>and its magnificent trunk , larger than life i...</td>\n",
       "    </tr>\n",
       "    <tr>\n",
       "      <th>1</th>\n",
       "      <td>a old curvy tree in the sun light .</td>\n",
       "      <td>and its magnificent trunk , larger than life i...</td>\n",
       "    </tr>\n",
       "    <tr>\n",
       "      <th>2</th>\n",
       "      <td>a person is taking a picture of a large tree a...</td>\n",
       "      <td>and its magnificent trunk , larger than life i...</td>\n",
       "    </tr>\n",
       "    <tr>\n",
       "      <th>3</th>\n",
       "      <td>large tree with many outstretching branches an...</td>\n",
       "      <td>we found this tree when we were walking in a n...</td>\n",
       "    </tr>\n",
       "    <tr>\n",
       "      <th>4</th>\n",
       "      <td>a green sign is describing a historic tree and...</td>\n",
       "      <td>it turns out it is a popular attraction here .</td>\n",
       "    </tr>\n",
       "    <tr>\n",
       "      <th>5</th>\n",
       "      <td>a large tree with roots that look like crocodi...</td>\n",
       "      <td>the tree is very unusual , with its roots expo...</td>\n",
       "    </tr>\n",
       "    <tr>\n",
       "      <th>6</th>\n",
       "      <td>big old tree being photographed on a sunny day</td>\n",
       "      <td>the trunk was really wide , as much as 12 feet !</td>\n",
       "    </tr>\n",
       "    <tr>\n",
       "      <th>7</th>\n",
       "      <td>huge brown tree roots rose above the ground .</td>\n",
       "      <td>you can see how big these roots are - pretty a...</td>\n",
       "    </tr>\n",
       "    <tr>\n",
       "      <th>8</th>\n",
       "      <td>a large tree with many branches coming out</td>\n",
       "      <td>we found this tree when we were walking in a n...</td>\n",
       "    </tr>\n",
       "    <tr>\n",
       "      <th>9</th>\n",
       "      <td>a plaque describes an historical tree and advi...</td>\n",
       "      <td>it turns out it is a popular attraction here .</td>\n",
       "    </tr>\n",
       "    <tr>\n",
       "      <th>10</th>\n",
       "      <td>a tree has spread its roots high and wide acro...</td>\n",
       "      <td>the tree is very unusual , with its roots expo...</td>\n",
       "    </tr>\n",
       "    <tr>\n",
       "      <th>11</th>\n",
       "      <td>a old curvy tree in the sun light .</td>\n",
       "      <td>the trunk was really wide , as much as 12 feet !</td>\n",
       "    </tr>\n",
       "    <tr>\n",
       "      <th>12</th>\n",
       "      <td>some trees that are surrounded by apartment bu...</td>\n",
       "      <td>you can see how big these roots are - pretty a...</td>\n",
       "    </tr>\n",
       "    <tr>\n",
       "      <th>13</th>\n",
       "      <td>the tree has very long and dated branches .</td>\n",
       "      <td>we found this tree when we were walking in a n...</td>\n",
       "    </tr>\n",
       "    <tr>\n",
       "      <th>14</th>\n",
       "      <td>a plaque on a stand surround by died leaves of...</td>\n",
       "      <td>it turns out it is a popular attraction here .</td>\n",
       "    </tr>\n",
       "  </tbody>\n",
       "</table>\n",
       "</div>"
      ],
      "text/plain": [
       "                                                 Desc  \\\n",
       "0      big old tree being photographed on a sunny day   \n",
       "1                 a old curvy tree in the sun light .   \n",
       "2   a person is taking a picture of a large tree a...   \n",
       "3   large tree with many outstretching branches an...   \n",
       "4   a green sign is describing a historic tree and...   \n",
       "5   a large tree with roots that look like crocodi...   \n",
       "6      big old tree being photographed on a sunny day   \n",
       "7       huge brown tree roots rose above the ground .   \n",
       "8          a large tree with many branches coming out   \n",
       "9   a plaque describes an historical tree and advi...   \n",
       "10  a tree has spread its roots high and wide acro...   \n",
       "11                a old curvy tree in the sun light .   \n",
       "12  some trees that are surrounded by apartment bu...   \n",
       "13        the tree has very long and dated branches .   \n",
       "14  a plaque on a stand surround by died leaves of...   \n",
       "\n",
       "                                                Story  \n",
       "0   and its magnificent trunk , larger than life i...  \n",
       "1   and its magnificent trunk , larger than life i...  \n",
       "2   and its magnificent trunk , larger than life i...  \n",
       "3   we found this tree when we were walking in a n...  \n",
       "4      it turns out it is a popular attraction here .  \n",
       "5   the tree is very unusual , with its roots expo...  \n",
       "6    the trunk was really wide , as much as 12 feet !  \n",
       "7   you can see how big these roots are - pretty a...  \n",
       "8   we found this tree when we were walking in a n...  \n",
       "9      it turns out it is a popular attraction here .  \n",
       "10  the tree is very unusual , with its roots expo...  \n",
       "11   the trunk was really wide , as much as 12 feet !  \n",
       "12  you can see how big these roots are - pretty a...  \n",
       "13  we found this tree when we were walking in a n...  \n",
       "14     it turns out it is a popular attraction here .  "
      ]
     },
     "execution_count": 107,
     "metadata": {},
     "output_type": "execute_result"
    }
   ],
   "source": [
    "# load\n",
    "with open('df_story_desc_final.pickle', 'rb') as f:\n",
    "    df_story_and_desc = pickle.load(f)\n",
    "\n",
    "print (\"before: \", df_story_and_desc.shape)\n",
    "df_story_and_desc = df_story_and_desc[:30000]\n",
    "\n",
    "df_story_and_desc_id = df_story_and_desc['Story_Photo_id']\n",
    "df_story_and_desc_text = df_story_and_desc[['Desc', 'Story']]\n",
    "\n",
    "print (\"after: \", df_story_and_desc_text.shape)\n",
    "df_story_and_desc_text.head(15)"
   ]
  },
  {
   "cell_type": "markdown",
   "metadata": {},
   "source": [
    "==> 15개 단위로 같은 사진 set에 대한 내용"
   ]
  },
  {
   "cell_type": "code",
   "execution_count": 108,
   "metadata": {
    "ExecuteTime": {
     "end_time": "2020-09-16T09:48:21.350046Z",
     "start_time": "2020-09-16T09:48:21.335085Z"
    }
   },
   "outputs": [
    {
     "data": {
      "text/html": [
       "<div>\n",
       "<style scoped>\n",
       "    .dataframe tbody tr th:only-of-type {\n",
       "        vertical-align: middle;\n",
       "    }\n",
       "\n",
       "    .dataframe tbody tr th {\n",
       "        vertical-align: top;\n",
       "    }\n",
       "\n",
       "    .dataframe thead th {\n",
       "        text-align: right;\n",
       "    }\n",
       "</style>\n",
       "<table border=\"1\" class=\"dataframe\">\n",
       "  <thead>\n",
       "    <tr style=\"text-align: right;\">\n",
       "      <th></th>\n",
       "      <th>Desc</th>\n",
       "      <th>Story</th>\n",
       "    </tr>\n",
       "  </thead>\n",
       "  <tbody>\n",
       "    <tr>\n",
       "      <th>0</th>\n",
       "      <td>big old tree being photographed on a sunny day</td>\n",
       "      <td>and its magnificent trunk , larger than life i...</td>\n",
       "    </tr>\n",
       "    <tr>\n",
       "      <th>6</th>\n",
       "      <td>big old tree being photographed on a sunny day</td>\n",
       "      <td>the trunk was really wide , as much as 12 feet !</td>\n",
       "    </tr>\n",
       "    <tr>\n",
       "      <th>18</th>\n",
       "      <td>big old tree being photographed on a sunny day</td>\n",
       "      <td>some more different parts of the tree .</td>\n",
       "    </tr>\n",
       "    <tr>\n",
       "      <th>24</th>\n",
       "      <td>big old tree being photographed on a sunny day</td>\n",
       "      <td>the trunk was incredibly thick and rigid .</td>\n",
       "    </tr>\n",
       "    <tr>\n",
       "      <th>39</th>\n",
       "      <td>big old tree being photographed on a sunny day</td>\n",
       "      <td>i was dwarfed by the tree 's size .</td>\n",
       "    </tr>\n",
       "  </tbody>\n",
       "</table>\n",
       "</div>"
      ],
      "text/plain": [
       "                                              Desc  \\\n",
       "0   big old tree being photographed on a sunny day   \n",
       "6   big old tree being photographed on a sunny day   \n",
       "18  big old tree being photographed on a sunny day   \n",
       "24  big old tree being photographed on a sunny day   \n",
       "39  big old tree being photographed on a sunny day   \n",
       "\n",
       "                                                Story  \n",
       "0   and its magnificent trunk , larger than life i...  \n",
       "6    the trunk was really wide , as much as 12 feet !  \n",
       "18            some more different parts of the tree .  \n",
       "24         the trunk was incredibly thick and rigid .  \n",
       "39                i was dwarfed by the tree 's size .  "
      ]
     },
     "execution_count": 108,
     "metadata": {},
     "output_type": "execute_result"
    }
   ],
   "source": [
    "df_story_and_desc_text[df_story_and_desc_text.Desc=='big old tree being photographed on a sunny day']"
   ]
  },
  {
   "cell_type": "code",
   "execution_count": 109,
   "metadata": {
    "ExecuteTime": {
     "end_time": "2020-09-16T09:48:21.413875Z",
     "start_time": "2020-09-16T09:48:21.405898Z"
    }
   },
   "outputs": [
    {
     "name": "stdout",
     "output_type": "stream",
     "text": [
      "pair 0 : big old tree being photographed on a sunny day ==> and its magnificent trunk , larger than life itself .\n",
      "pair 6 : big old tree being photographed on a sunny day ==> the trunk was really wide , as much as 12 feet !\n",
      "pair 18 : big old tree being photographed on a sunny day ==> some more different parts of the tree .\n",
      "pair 24 : big old tree being photographed on a sunny day ==> the trunk was incredibly thick and rigid .\n",
      "pair 39 : big old tree being photographed on a sunny day ==> i was dwarfed by the tree 's size .\n"
     ]
    }
   ],
   "source": [
    "for i,row in df_story_and_desc_text[df_story_and_desc_text.Desc=='big old tree being photographed on a sunny day'].iterrows():\n",
    "    print(\"pair\",i,\":\",row['Desc']+\" ==> \"+row['Story'])"
   ]
  },
  {
   "cell_type": "markdown",
   "metadata": {},
   "source": [
    "==> 하나의 Description Text에 5개의 Story가 대응됨"
   ]
  },
  {
   "cell_type": "markdown",
   "metadata": {},
   "source": [
    "## cleaning"
   ]
  },
  {
   "cell_type": "code",
   "execution_count": 110,
   "metadata": {
    "ExecuteTime": {
     "end_time": "2020-09-16T09:48:21.968231Z",
     "start_time": "2020-09-16T09:48:21.954237Z"
    }
   },
   "outputs": [],
   "source": [
    "def re_sub(item):\n",
    "    re_sentence = []\n",
    "    for sentence in item:\n",
    "        sentence = re.sub('[^a-z0-9A-Z]+', ' ', sentence)\n",
    "        re_sentence.append(sentence)\n",
    "    return re_sentence"
   ]
  },
  {
   "cell_type": "code",
   "execution_count": 111,
   "metadata": {
    "ExecuteTime": {
     "end_time": "2020-09-16T09:48:22.538078Z",
     "start_time": "2020-09-16T09:48:22.139819Z"
    },
    "scrolled": true
   },
   "outputs": [
    {
     "data": {
      "text/html": [
       "<div>\n",
       "<style scoped>\n",
       "    .dataframe tbody tr th:only-of-type {\n",
       "        vertical-align: middle;\n",
       "    }\n",
       "\n",
       "    .dataframe tbody tr th {\n",
       "        vertical-align: top;\n",
       "    }\n",
       "\n",
       "    .dataframe thead th {\n",
       "        text-align: right;\n",
       "    }\n",
       "</style>\n",
       "<table border=\"1\" class=\"dataframe\">\n",
       "  <thead>\n",
       "    <tr style=\"text-align: right;\">\n",
       "      <th></th>\n",
       "      <th>in_desc</th>\n",
       "      <th>out_story</th>\n",
       "    </tr>\n",
       "  </thead>\n",
       "  <tbody>\n",
       "    <tr>\n",
       "      <th>0</th>\n",
       "      <td>big old tree being photographed on a sunny day</td>\n",
       "      <td>&lt;sos&gt; and its magnificent trunk larger than li...</td>\n",
       "    </tr>\n",
       "    <tr>\n",
       "      <th>1</th>\n",
       "      <td>a old curvy tree in the sun light</td>\n",
       "      <td>&lt;sos&gt; and its magnificent trunk larger than li...</td>\n",
       "    </tr>\n",
       "    <tr>\n",
       "      <th>2</th>\n",
       "      <td>a person is taking a picture of a large tree a...</td>\n",
       "      <td>&lt;sos&gt; and its magnificent trunk larger than li...</td>\n",
       "    </tr>\n",
       "    <tr>\n",
       "      <th>3</th>\n",
       "      <td>large tree with many outstretching branches an...</td>\n",
       "      <td>&lt;sos&gt; we found this tree when we were walking ...</td>\n",
       "    </tr>\n",
       "    <tr>\n",
       "      <th>4</th>\n",
       "      <td>a green sign is describing a historic tree and...</td>\n",
       "      <td>&lt;sos&gt; it turns out it is a popular attraction ...</td>\n",
       "    </tr>\n",
       "    <tr>\n",
       "      <th>...</th>\n",
       "      <td>...</td>\n",
       "      <td>...</td>\n",
       "    </tr>\n",
       "    <tr>\n",
       "      <th>29995</th>\n",
       "      <td>a crowd of people in a village square three of...</td>\n",
       "      <td>&lt;sos&gt; we went to organization last summer for ...</td>\n",
       "    </tr>\n",
       "    <tr>\n",
       "      <th>29996</th>\n",
       "      <td>people on a safari truck watching as they expl...</td>\n",
       "      <td>&lt;sos&gt; we got to ride so many different rides  ...</td>\n",
       "    </tr>\n",
       "    <tr>\n",
       "      <th>29997</th>\n",
       "      <td>children pose for a photograph on steps in a p...</td>\n",
       "      <td>&lt;sos&gt; the kids were having so much fun  &lt;eos&gt;</td>\n",
       "    </tr>\n",
       "    <tr>\n",
       "      <th>29998</th>\n",
       "      <td>kids wearing pirate hats are brandishing toy s...</td>\n",
       "      <td>&lt;sos&gt; they loved going around to all the diffe...</td>\n",
       "    </tr>\n",
       "    <tr>\n",
       "      <th>29999</th>\n",
       "      <td>bronze statue outdoors in foreground large cas...</td>\n",
       "      <td>&lt;sos&gt; we had such a good time and ca n t wait ...</td>\n",
       "    </tr>\n",
       "  </tbody>\n",
       "</table>\n",
       "<p>30000 rows × 2 columns</p>\n",
       "</div>"
      ],
      "text/plain": [
       "                                                 in_desc  \\\n",
       "0         big old tree being photographed on a sunny day   \n",
       "1                     a old curvy tree in the sun light    \n",
       "2      a person is taking a picture of a large tree a...   \n",
       "3      large tree with many outstretching branches an...   \n",
       "4      a green sign is describing a historic tree and...   \n",
       "...                                                  ...   \n",
       "29995  a crowd of people in a village square three of...   \n",
       "29996  people on a safari truck watching as they expl...   \n",
       "29997  children pose for a photograph on steps in a p...   \n",
       "29998  kids wearing pirate hats are brandishing toy s...   \n",
       "29999  bronze statue outdoors in foreground large cas...   \n",
       "\n",
       "                                               out_story  \n",
       "0      <sos> and its magnificent trunk larger than li...  \n",
       "1      <sos> and its magnificent trunk larger than li...  \n",
       "2      <sos> and its magnificent trunk larger than li...  \n",
       "3      <sos> we found this tree when we were walking ...  \n",
       "4      <sos> it turns out it is a popular attraction ...  \n",
       "...                                                  ...  \n",
       "29995  <sos> we went to organization last summer for ...  \n",
       "29996  <sos> we got to ride so many different rides  ...  \n",
       "29997      <sos> the kids were having so much fun  <eos>  \n",
       "29998  <sos> they loved going around to all the diffe...  \n",
       "29999  <sos> we had such a good time and ca n t wait ...  \n",
       "\n",
       "[30000 rows x 2 columns]"
      ]
     },
     "execution_count": 111,
     "metadata": {},
     "output_type": "execute_result"
    }
   ],
   "source": [
    "clean_data = df_story_and_desc_text.apply(lambda x: re_sub(x))\n",
    "clean_data.columns = ['in_desc','out_story']\n",
    "clean_data['out_story'] = clean_data['out_story'].apply(lambda x : '<sos> '+ x + ' <eos>')\n",
    "clean_data"
   ]
  },
  {
   "cell_type": "code",
   "execution_count": null,
   "metadata": {},
   "outputs": [],
   "source": [
    "clean_data = clean_data."
   ]
  },
  {
   "cell_type": "markdown",
   "metadata": {},
   "source": [
    "# Vectorize the data"
   ]
  },
  {
   "cell_type": "markdown",
   "metadata": {},
   "source": [
    "--- \n",
    "\n",
    "0907 DONE\n",
    "\n",
    "---"
   ]
  },
  {
   "cell_type": "code",
   "execution_count": 73,
   "metadata": {
    "ExecuteTime": {
     "end_time": "2020-09-16T09:48:23.166348Z",
     "start_time": "2020-09-16T09:48:23.043677Z"
    }
   },
   "outputs": [
    {
     "data": {
      "text/plain": [
       "(2865, 3486)"
      ]
     },
     "execution_count": 73,
     "metadata": {},
     "output_type": "execute_result"
    }
   ],
   "source": [
    "desc_words = set()\n",
    "for desc_paragraph in clean_data.in_desc:\n",
    "    for word in desc_paragraph.split():\n",
    "        if word not in desc_words:\n",
    "            desc_words.add(word)\n",
    "            \n",
    "story_words = set()\n",
    "for story_parapgraph in clean_data.out_story:\n",
    "    for word in story_parapgraph.split():\n",
    "        if word not in story_words:\n",
    "            story_words.add(word)\n",
    "    \n",
    "len(desc_words), len(story_words)"
   ]
  },
  {
   "cell_type": "code",
   "execution_count": 74,
   "metadata": {
    "ExecuteTime": {
     "end_time": "2020-09-16T09:48:23.433578Z",
     "start_time": "2020-09-16T09:48:23.386677Z"
    }
   },
   "outputs": [
    {
     "name": "stdout",
     "output_type": "stream",
     "text": [
      "Number of samples: 2865\n",
      "Number of unique input tokens: 2865\n",
      "Number of unique output tokens: 3486\n",
      "Max sequence length for inputs: 45\n",
      "Max sequence length for outputs: 47\n"
     ]
    }
   ],
   "source": [
    "input_words = sorted(list(desc_words))\n",
    "target_words = sorted(list(story_words))\n",
    "\n",
    "num_encoder_tokens = len(desc_words)\n",
    "num_decoder_tokens = len(story_words)\n",
    "\n",
    "max_encoder_seq_length = max([len(txt.split(\" \")) for txt in clean_data['in_desc']])\n",
    "max_decoder_seq_length = max([len(txt.split(\" \")) for txt in clean_data['out_story']])\n",
    "\n",
    "print('Number of samples:', len(input_words))\n",
    "print('Number of unique input tokens:', num_encoder_tokens)\n",
    "print('Number of unique output tokens:', num_decoder_tokens)\n",
    "print('Max sequence length for inputs:', max_encoder_seq_length)\n",
    "print('Max sequence length for outputs:', max_decoder_seq_length)"
   ]
  },
  {
   "cell_type": "code",
   "execution_count": 75,
   "metadata": {
    "ExecuteTime": {
     "end_time": "2020-09-16T10:03:28.557593Z",
     "start_time": "2020-09-16T10:03:28.553630Z"
    }
   },
   "outputs": [
    {
     "data": {
      "text/plain": [
       "(10000, 47, 3486)"
      ]
     },
     "execution_count": 75,
     "metadata": {},
     "output_type": "execute_result"
    }
   ],
   "source": [
    "len(clean_data.out_story), max_decoder_seq_length, num_decoder_tokens"
   ]
  },
  {
   "cell_type": "code",
   "execution_count": 76,
   "metadata": {
    "ExecuteTime": {
     "end_time": "2020-09-16T10:04:04.921972Z",
     "start_time": "2020-09-16T10:04:04.905020Z"
    }
   },
   "outputs": [],
   "source": [
    "encoder_input_data = np.zeros(\n",
    "    (len(clean_data.in_desc), max_encoder_seq_length),\n",
    "    dtype='float32')\n",
    "decoder_input_data = np.zeros(\n",
    "    (len(clean_data.out_story), max_decoder_seq_length),\n",
    "    dtype='float32')\n",
    "decoder_target_data = np.zeros(\n",
    "    (len(clean_data.out_story), max_decoder_seq_length, num_decoder_tokens),\n",
    "    dtype='float32')"
   ]
  },
  {
   "cell_type": "markdown",
   "metadata": {},
   "source": [
    "메모리 뻑남..\n",
    "\n",
    "MemoryError: Unable to allocate 59.8 GiB for an array with shape (30000, 82, 6524) and data type float32\n"
   ]
  },
  {
   "cell_type": "code",
   "execution_count": 77,
   "metadata": {},
   "outputs": [
    {
     "name": "stdout",
     "output_type": "stream",
     "text": [
      "(10000, 45)\n",
      "(10000, 47)\n",
      "(10000, 47, 3486)\n"
     ]
    }
   ],
   "source": [
    "print(encoder_input_data.shape)\n",
    "print(decoder_input_data.shape)\n",
    "print(decoder_target_data.shape)"
   ]
  },
  {
   "cell_type": "markdown",
   "metadata": {},
   "source": [
    "**why decoder_target_data.shape is 3d**\n",
    "\n",
    "- 모든 단어에 대하여 이전 단어로부터 다음 단어를 예측하는 소프트맥스 층을 가지기 때문에 "
   ]
  },
  {
   "cell_type": "markdown",
   "metadata": {},
   "source": [
    "--- \n",
    "\n",
    "0908 DONE\n",
    "\n",
    "- 왜 1로 초기화 하는가\n",
    "\n",
    "    - ==> 초기화를 1로 하는 것이 아니라 t=0을 건너뛰는 것임\n",
    "\n",
    "---"
   ]
  },
  {
   "cell_type": "code",
   "execution_count": 78,
   "metadata": {},
   "outputs": [],
   "source": [
    "input_token_index = dict([(word, i) for i, word in enumerate(input_words)])\n",
    "target_token_index = dict([(word, i) for i, word in enumerate(target_words)])"
   ]
  },
  {
   "cell_type": "code",
   "execution_count": 79,
   "metadata": {},
   "outputs": [],
   "source": [
    "for i, (input_text, target_text) in enumerate(zip(clean_data['in_desc'], clean_data['out_story'])):\n",
    "\n",
    "    # encoder\n",
    "    for t, word in enumerate(input_text.split()):\n",
    "        encoder_input_data[i, t] = input_token_index[word]\n",
    "\n",
    "    # decoder\n",
    "    for t, word in enumerate(target_text.split()):\n",
    "        # decoder_target_data is ahead of decoder_input_data by one timestep\n",
    "        decoder_input_data[i, t] = target_token_index[word]  \n",
    "        if t > 0: \n",
    "            # decoder_target_data will be ahead by one timestep\n",
    "            # and will not include the start character.\n",
    "            decoder_target_data[i, t - 1, target_token_index[word]] = 1."
   ]
  },
  {
   "cell_type": "code",
   "execution_count": 80,
   "metadata": {},
   "outputs": [
    {
     "data": {
      "text/plain": [
       "(10000, 45)"
      ]
     },
     "execution_count": 80,
     "metadata": {},
     "output_type": "execute_result"
    }
   ],
   "source": [
    "encoder_input_data.shape"
   ]
  },
  {
   "cell_type": "code",
   "execution_count": 81,
   "metadata": {},
   "outputs": [
    {
     "name": "stdout",
     "output_type": "stream",
     "text": [
      "(10000, 47)\n"
     ]
    },
    {
     "data": {
      "text/plain": [
       "array([[  27.,  125., 1676., ...,    0.,    0.,    0.],\n",
       "       [  27.,  125., 1676., ...,    0.,    0.,    0.],\n",
       "       [  27.,  125., 1676., ...,    0.,    0.,    0.],\n",
       "       ...,\n",
       "       [  27., 1674., 3347., ...,    0.,    0.,    0.],\n",
       "       [  27., 3368.,   96., ...,    0.,    0.,    0.],\n",
       "       [  27., 3368., 1096., ...,    0.,    0.,    0.]], dtype=float32)"
      ]
     },
     "execution_count": 81,
     "metadata": {},
     "output_type": "execute_result"
    }
   ],
   "source": [
    "print (decoder_input_data.shape)\n",
    "decoder_input_data"
   ]
  },
  {
   "cell_type": "code",
   "execution_count": 82,
   "metadata": {
    "scrolled": true
   },
   "outputs": [
    {
     "name": "stdout",
     "output_type": "stream",
     "text": [
      "(10000, 47, 3486)\n"
     ]
    },
    {
     "data": {
      "text/plain": [
       "array([[[0., 0., 0., ..., 0., 0., 0.],\n",
       "        [0., 0., 0., ..., 0., 0., 0.],\n",
       "        [0., 0., 0., ..., 0., 0., 0.],\n",
       "        ...,\n",
       "        [0., 0., 0., ..., 0., 0., 0.],\n",
       "        [0., 0., 0., ..., 0., 0., 0.],\n",
       "        [0., 0., 0., ..., 0., 0., 0.]],\n",
       "\n",
       "       [[0., 0., 0., ..., 0., 0., 0.],\n",
       "        [0., 0., 0., ..., 0., 0., 0.],\n",
       "        [0., 0., 0., ..., 0., 0., 0.],\n",
       "        ...,\n",
       "        [0., 0., 0., ..., 0., 0., 0.],\n",
       "        [0., 0., 0., ..., 0., 0., 0.],\n",
       "        [0., 0., 0., ..., 0., 0., 0.]],\n",
       "\n",
       "       [[0., 0., 0., ..., 0., 0., 0.],\n",
       "        [0., 0., 0., ..., 0., 0., 0.],\n",
       "        [0., 0., 0., ..., 0., 0., 0.],\n",
       "        ...,\n",
       "        [0., 0., 0., ..., 0., 0., 0.],\n",
       "        [0., 0., 0., ..., 0., 0., 0.],\n",
       "        [0., 0., 0., ..., 0., 0., 0.]],\n",
       "\n",
       "       ...,\n",
       "\n",
       "       [[0., 0., 0., ..., 0., 0., 0.],\n",
       "        [0., 0., 0., ..., 0., 0., 0.],\n",
       "        [0., 0., 0., ..., 0., 0., 0.],\n",
       "        ...,\n",
       "        [0., 0., 0., ..., 0., 0., 0.],\n",
       "        [0., 0., 0., ..., 0., 0., 0.],\n",
       "        [0., 0., 0., ..., 0., 0., 0.]],\n",
       "\n",
       "       [[0., 0., 0., ..., 0., 0., 0.],\n",
       "        [0., 0., 0., ..., 0., 0., 0.],\n",
       "        [0., 0., 0., ..., 0., 0., 0.],\n",
       "        ...,\n",
       "        [0., 0., 0., ..., 0., 0., 0.],\n",
       "        [0., 0., 0., ..., 0., 0., 0.],\n",
       "        [0., 0., 0., ..., 0., 0., 0.]],\n",
       "\n",
       "       [[0., 0., 0., ..., 0., 0., 0.],\n",
       "        [0., 0., 0., ..., 0., 0., 0.],\n",
       "        [0., 0., 0., ..., 0., 0., 0.],\n",
       "        ...,\n",
       "        [0., 0., 0., ..., 0., 0., 0.],\n",
       "        [0., 0., 0., ..., 0., 0., 0.],\n",
       "        [0., 0., 0., ..., 0., 0., 0.]]], dtype=float32)"
      ]
     },
     "execution_count": 82,
     "metadata": {},
     "output_type": "execute_result"
    }
   ],
   "source": [
    "print(decoder_target_data.shape)\n",
    "decoder_target_data"
   ]
  },
  {
   "cell_type": "markdown",
   "metadata": {},
   "source": [
    "--- \n",
    "\n",
    "0909 DONE\n",
    "\n",
    "---"
   ]
  },
  {
   "cell_type": "markdown",
   "metadata": {},
   "source": [
    "# Build keras encoder-decoder model\n",
    "\n",
    "http://incredible.ai/nlp/2020/02/20/Sequence-To-Sequence-with-Attention/\n",
    "https://docs.chainer.org/en/stable/examples/seq2seq.html\n",
    "\n",
    "https://tykimos.github.io/2018/09/14/ten-minute_introduction_to_sequence-to-sequence_learning_in_Keras/"
   ]
  },
  {
   "cell_type": "code",
   "execution_count": 83,
   "metadata": {},
   "outputs": [],
   "source": [
    "import tensorflow as tf\n",
    "from tensorflow import keras\n",
    "\n",
    "from keras.models import Model\n",
    "from keras.layers import Input, LSTM, Dense, Embedding, Bidirectional"
   ]
  },
  {
   "cell_type": "code",
   "execution_count": 93,
   "metadata": {},
   "outputs": [],
   "source": [
    "batch_size = 64  # Batch size for training.\n",
    "epochs = 50  # Number of epochs to train for.\n",
    "latent_dim = 64  # Latent dimensionality of the encoding space.\n",
    "num_samples = 10000  # Number of samples to train on.\n",
    "embedding_size = 50 # Embedding Dimension"
   ]
  },
  {
   "cell_type": "code",
   "execution_count": 94,
   "metadata": {},
   "outputs": [
    {
     "name": "stdout",
     "output_type": "stream",
     "text": [
      "encoder_inputs:  (None, None)\n",
      "en_x:  (None, None, 50)\n",
      "encoder_outputs:  (None, 64)\n",
      "state_h:  (None, 64)\n",
      "state_c:  (None, 64)\n"
     ]
    }
   ],
   "source": [
    "# Define an input sequence and process it.\n",
    "encoder_inputs = Input(shape=(None,))\n",
    "print('encoder_inputs: ', encoder_inputs.shape)\n",
    "\n",
    "# English words embedding\n",
    "en_x=  Embedding(num_encoder_tokens, embedding_size)(encoder_inputs)\n",
    "print('en_x: ', en_x.shape)\n",
    "\n",
    "encoder = LSTM(latent_dim, return_state=True)\n",
    "encoder_outputs, state_h, state_c = encoder(en_x)\n",
    "print('encoder_outputs: ', encoder_outputs.shape)\n",
    "print('state_h: ', state_h.shape)\n",
    "print('state_c: ', state_c.shape)\n",
    "\n",
    "# We discard `encoder_outputs` and only keep the states.\n",
    "encoder_states = [state_h, state_c]"
   ]
  },
  {
   "cell_type": "code",
   "execution_count": 95,
   "metadata": {},
   "outputs": [
    {
     "name": "stdout",
     "output_type": "stream",
     "text": [
      "decoder_inputs:  (None, None)\n",
      "decoder_outputs:  (None, None, 3486)\n"
     ]
    }
   ],
   "source": [
    "# Set up the decoder, using `encoder_states` as initial state.\n",
    "decoder_inputs = Input(shape=(None, ))\n",
    "print('decoder_inputs: ', decoder_inputs.shape)\n",
    "\n",
    "# french word embeddings\n",
    "dex=  Embedding(num_decoder_tokens, embedding_size)\n",
    "final_dex = dex(decoder_inputs)\n",
    "\n",
    "# We set up our decoder to return full output sequences, and to return internal states as well. \n",
    "# We don't use the return states in the training model, but we will use them in inference.\n",
    "decoder_lstm = LSTM(latent_dim, return_sequences=True, return_state=True)\n",
    "decoder_outputs, _, _ = decoder_lstm(final_dex,\n",
    "                                     initial_state=encoder_states)\n",
    "\n",
    "decoder_dense = Dense(num_decoder_tokens, activation='softmax')\n",
    "decoder_outputs = decoder_dense(decoder_outputs)\n",
    "print('decoder_outputs: ', decoder_outputs.shape)"
   ]
  },
  {
   "cell_type": "markdown",
   "metadata": {},
   "source": [
    "--- \n",
    "\n",
    "0911 DONE\n",
    "\n",
    "---"
   ]
  },
  {
   "cell_type": "code",
   "execution_count": 96,
   "metadata": {},
   "outputs": [
    {
     "name": "stdout",
     "output_type": "stream",
     "text": [
      "Model: \"functional_11\"\n",
      "__________________________________________________________________________________________________\n",
      "Layer (type)                    Output Shape         Param #     Connected to                     \n",
      "==================================================================================================\n",
      "input_27 (InputLayer)           [(None, None)]       0                                            \n",
      "__________________________________________________________________________________________________\n",
      "input_28 (InputLayer)           [(None, None)]       0                                            \n",
      "__________________________________________________________________________________________________\n",
      "embedding_8 (Embedding)         (None, None, 50)     143250      input_27[0][0]                   \n",
      "__________________________________________________________________________________________________\n",
      "embedding_9 (Embedding)         (None, None, 50)     174300      input_28[0][0]                   \n",
      "__________________________________________________________________________________________________\n",
      "lstm_12 (LSTM)                  [(None, 64), (None,  29440       embedding_8[0][0]                \n",
      "__________________________________________________________________________________________________\n",
      "lstm_13 (LSTM)                  [(None, None, 64), ( 29440       embedding_9[0][0]                \n",
      "                                                                 lstm_12[0][1]                    \n",
      "                                                                 lstm_12[0][2]                    \n",
      "__________________________________________________________________________________________________\n",
      "dense_5 (Dense)                 (None, None, 3486)   226590      lstm_13[0][0]                    \n",
      "==================================================================================================\n",
      "Total params: 603,020\n",
      "Trainable params: 603,020\n",
      "Non-trainable params: 0\n",
      "__________________________________________________________________________________________________\n"
     ]
    }
   ],
   "source": [
    "# Define the model that will turn\n",
    "# `encoder_input_data` & `decoder_input_data` into `decoder_target_data`\n",
    "model = Model([encoder_inputs, decoder_inputs], decoder_outputs)\n",
    "model.summary()"
   ]
  },
  {
   "cell_type": "code",
   "execution_count": 97,
   "metadata": {},
   "outputs": [
    {
     "name": "stdout",
     "output_type": "stream",
     "text": [
      "(10000, 45)\n",
      "(10000, 47)\n",
      "(10000, 47, 3486)\n"
     ]
    }
   ],
   "source": [
    "print(encoder_input_data.shape)\n",
    "print(decoder_input_data.shape)\n",
    "print(decoder_target_data.shape)"
   ]
  },
  {
   "cell_type": "code",
   "execution_count": 98,
   "metadata": {},
   "outputs": [],
   "source": [
    "# Run training\n",
    "model.compile(optimizer='rmsprop', loss='categorical_crossentropy',\n",
    "              metrics=['accuracy'])"
   ]
  },
  {
   "cell_type": "code",
   "execution_count": 99,
   "metadata": {},
   "outputs": [
    {
     "name": "stdout",
     "output_type": "stream",
     "text": [
      "Epoch 1/50\n",
      "125/125 [==============================] - 39s 313ms/step - loss: 1.4385 - accuracy: 0.0229 - val_loss: 1.5800 - val_accuracy: 0.0279\n",
      "Epoch 2/50\n",
      "125/125 [==============================] - 38s 306ms/step - loss: 1.3246 - accuracy: 0.0294 - val_loss: 1.5696 - val_accuracy: 0.0294\n",
      "Epoch 3/50\n",
      "125/125 [==============================] - 38s 307ms/step - loss: 1.2922 - accuracy: 0.0302 - val_loss: 1.5640 - val_accuracy: 0.0296\n",
      "Epoch 4/50\n",
      "125/125 [==============================] - 38s 304ms/step - loss: 1.2634 - accuracy: 0.0318 - val_loss: 1.5526 - val_accuracy: 0.0321\n",
      "Epoch 5/50\n",
      "125/125 [==============================] - 39s 311ms/step - loss: 1.2330 - accuracy: 0.0354 - val_loss: 1.5325 - val_accuracy: 0.0353\n",
      "Epoch 6/50\n",
      "125/125 [==============================] - 38s 306ms/step - loss: 1.2008 - accuracy: 0.0387 - val_loss: 1.5202 - val_accuracy: 0.0374\n",
      "Epoch 7/50\n",
      "125/125 [==============================] - 39s 310ms/step - loss: 1.1696 - accuracy: 0.0419 - val_loss: 1.4983 - val_accuracy: 0.0420\n",
      "Epoch 8/50\n",
      "125/125 [==============================] - 38s 304ms/step - loss: 1.1403 - accuracy: 0.0446 - val_loss: 1.4815 - val_accuracy: 0.0433\n",
      "Epoch 9/50\n",
      "125/125 [==============================] - 38s 305ms/step - loss: 1.1133 - accuracy: 0.0470 - val_loss: 1.4690 - val_accuracy: 0.0454\n",
      "Epoch 10/50\n",
      "125/125 [==============================] - 37s 300ms/step - loss: 1.0881 - accuracy: 0.0495 - val_loss: 1.4597 - val_accuracy: 0.0469\n",
      "Epoch 11/50\n",
      "125/125 [==============================] - 38s 301ms/step - loss: 1.0644 - accuracy: 0.0516 - val_loss: 1.4547 - val_accuracy: 0.0476\n",
      "Epoch 12/50\n",
      "125/125 [==============================] - 38s 305ms/step - loss: 1.0423 - accuracy: 0.0532 - val_loss: 1.4458 - val_accuracy: 0.0487\n",
      "Epoch 13/50\n",
      "125/125 [==============================] - 39s 308ms/step - loss: 1.0214 - accuracy: 0.0548 - val_loss: 1.4438 - val_accuracy: 0.0492\n",
      "Epoch 14/50\n",
      "125/125 [==============================] - 38s 306ms/step - loss: 1.0019 - accuracy: 0.0562 - val_loss: 1.4473 - val_accuracy: 0.0496\n",
      "Epoch 15/50\n",
      "125/125 [==============================] - 38s 305ms/step - loss: 0.9841 - accuracy: 0.0576 - val_loss: 1.4453 - val_accuracy: 0.0497\n",
      "Epoch 16/50\n",
      "125/125 [==============================] - 38s 305ms/step - loss: 0.9672 - accuracy: 0.0586 - val_loss: 1.4460 - val_accuracy: 0.0498\n",
      "Epoch 17/50\n",
      "125/125 [==============================] - 38s 306ms/step - loss: 0.9512 - accuracy: 0.0599 - val_loss: 1.4511 - val_accuracy: 0.0501\n",
      "Epoch 18/50\n",
      "125/125 [==============================] - 38s 302ms/step - loss: 0.9360 - accuracy: 0.0611 - val_loss: 1.4525 - val_accuracy: 0.0498\n",
      "Epoch 19/50\n",
      "125/125 [==============================] - 38s 302ms/step - loss: 0.9212 - accuracy: 0.0625 - val_loss: 1.4556 - val_accuracy: 0.0501\n",
      "Epoch 20/50\n",
      "125/125 [==============================] - 38s 301ms/step - loss: 0.9069 - accuracy: 0.0635 - val_loss: 1.4597 - val_accuracy: 0.0497\n",
      "Epoch 21/50\n",
      "125/125 [==============================] - 38s 302ms/step - loss: 0.8928 - accuracy: 0.0646 - val_loss: 1.4658 - val_accuracy: 0.0494\n",
      "Epoch 22/50\n",
      "125/125 [==============================] - 38s 301ms/step - loss: 0.8790 - accuracy: 0.0658 - val_loss: 1.4685 - val_accuracy: 0.0486\n",
      "Epoch 23/50\n",
      "125/125 [==============================] - 38s 303ms/step - loss: 0.8658 - accuracy: 0.0670 - val_loss: 1.4732 - val_accuracy: 0.0482\n",
      "Epoch 24/50\n",
      "125/125 [==============================] - 38s 307ms/step - loss: 0.8529 - accuracy: 0.0683 - val_loss: 1.4806 - val_accuracy: 0.0481\n",
      "Epoch 25/50\n",
      "125/125 [==============================] - 38s 306ms/step - loss: 0.8402 - accuracy: 0.0697 - val_loss: 1.4833 - val_accuracy: 0.0473\n",
      "Epoch 26/50\n",
      "125/125 [==============================] - 38s 307ms/step - loss: 0.8278 - accuracy: 0.0710 - val_loss: 1.4936 - val_accuracy: 0.0478\n",
      "Epoch 27/50\n",
      "125/125 [==============================] - 38s 304ms/step - loss: 0.8159 - accuracy: 0.0722 - val_loss: 1.4965 - val_accuracy: 0.0475\n",
      "Epoch 28/50\n",
      "125/125 [==============================] - 38s 304ms/step - loss: 0.8038 - accuracy: 0.0738 - val_loss: 1.5075 - val_accuracy: 0.0477\n",
      "Epoch 29/50\n",
      "125/125 [==============================] - 38s 306ms/step - loss: 0.7922 - accuracy: 0.0752 - val_loss: 1.5137 - val_accuracy: 0.0473\n",
      "Epoch 30/50\n",
      "125/125 [==============================] - 38s 304ms/step - loss: 0.7804 - accuracy: 0.0767 - val_loss: 1.5194 - val_accuracy: 0.0469\n",
      "Epoch 31/50\n",
      "125/125 [==============================] - 38s 305ms/step - loss: 0.7688 - accuracy: 0.0782 - val_loss: 1.5267 - val_accuracy: 0.0467\n",
      "Epoch 32/50\n",
      "125/125 [==============================] - 38s 305ms/step - loss: 0.7579 - accuracy: 0.0798 - val_loss: 1.5317 - val_accuracy: 0.0464\n",
      "Epoch 33/50\n",
      "125/125 [==============================] - 39s 310ms/step - loss: 0.7470 - accuracy: 0.0812 - val_loss: 1.5416 - val_accuracy: 0.0464\n",
      "Epoch 34/50\n",
      "125/125 [==============================] - 38s 304ms/step - loss: 0.7363 - accuracy: 0.0827 - val_loss: 1.5480 - val_accuracy: 0.0457\n",
      "Epoch 35/50\n",
      "125/125 [==============================] - 38s 303ms/step - loss: 0.7262 - accuracy: 0.0839 - val_loss: 1.5533 - val_accuracy: 0.0459\n",
      "Epoch 36/50\n",
      "125/125 [==============================] - 38s 302ms/step - loss: 0.7161 - accuracy: 0.0856 - val_loss: 1.5626 - val_accuracy: 0.0455\n",
      "Epoch 37/50\n",
      "125/125 [==============================] - 38s 302ms/step - loss: 0.7059 - accuracy: 0.0867 - val_loss: 1.5656 - val_accuracy: 0.0443\n",
      "Epoch 38/50\n",
      "125/125 [==============================] - 38s 304ms/step - loss: 0.6963 - accuracy: 0.0886 - val_loss: 1.5774 - val_accuracy: 0.0448\n",
      "Epoch 39/50\n",
      "125/125 [==============================] - 38s 303ms/step - loss: 0.6865 - accuracy: 0.0899 - val_loss: 1.5834 - val_accuracy: 0.0444\n",
      "Epoch 40/50\n",
      "125/125 [==============================] - 38s 304ms/step - loss: 0.6770 - accuracy: 0.0916 - val_loss: 1.5898 - val_accuracy: 0.0446\n",
      "Epoch 41/50\n",
      "125/125 [==============================] - 38s 302ms/step - loss: 0.6675 - accuracy: 0.0931 - val_loss: 1.5981 - val_accuracy: 0.0441\n",
      "Epoch 42/50\n",
      "125/125 [==============================] - 38s 304ms/step - loss: 0.6580 - accuracy: 0.0949 - val_loss: 1.6058 - val_accuracy: 0.0441\n",
      "Epoch 43/50\n",
      "125/125 [==============================] - 38s 304ms/step - loss: 0.6488 - accuracy: 0.0968 - val_loss: 1.6136 - val_accuracy: 0.0436\n",
      "Epoch 44/50\n",
      "125/125 [==============================] - 38s 302ms/step - loss: 0.6394 - accuracy: 0.0985 - val_loss: 1.6236 - val_accuracy: 0.0440\n",
      "Epoch 45/50\n",
      "125/125 [==============================] - 38s 303ms/step - loss: 0.6305 - accuracy: 0.1002 - val_loss: 1.6299 - val_accuracy: 0.0439\n",
      "Epoch 46/50\n",
      "125/125 [==============================] - 38s 302ms/step - loss: 0.6216 - accuracy: 0.1018 - val_loss: 1.6384 - val_accuracy: 0.0439\n",
      "Epoch 47/50\n",
      "125/125 [==============================] - 38s 302ms/step - loss: 0.6128 - accuracy: 0.1036 - val_loss: 1.6486 - val_accuracy: 0.0437\n",
      "Epoch 48/50\n",
      "125/125 [==============================] - 38s 304ms/step - loss: 0.6043 - accuracy: 0.1054 - val_loss: 1.6552 - val_accuracy: 0.0437\n",
      "Epoch 49/50\n",
      "125/125 [==============================] - 38s 303ms/step - loss: 0.5959 - accuracy: 0.1070 - val_loss: 1.6632 - val_accuracy: 0.0426\n",
      "Epoch 50/50\n",
      "125/125 [==============================] - 38s 302ms/step - loss: 0.5872 - accuracy: 0.1087 - val_loss: 1.6709 - val_accuracy: 0.0431\n"
     ]
    }
   ],
   "source": [
    "with tf.device('/gpu:0'):\n",
    "    model.fit([encoder_input_data, decoder_input_data], decoder_target_data,\n",
    "              batch_size=batch_size,\n",
    "              epochs=epochs,\n",
    "              validation_split=0.2)"
   ]
  },
  {
   "cell_type": "markdown",
   "metadata": {},
   "source": [
    "결과가.. 이상.."
   ]
  },
  {
   "cell_type": "code",
   "execution_count": 43,
   "metadata": {},
   "outputs": [],
   "source": [
    "# Save model\n",
    "model.save('s2s.h5')"
   ]
  },
  {
   "cell_type": "code",
   "execution_count": 106,
   "metadata": {},
   "outputs": [],
   "source": [
    "model = keras.models.load_model('s2s.h5')"
   ]
  },
  {
   "cell_type": "markdown",
   "metadata": {},
   "source": [
    "# Sentence Generation"
   ]
  },
  {
   "cell_type": "code",
   "execution_count": 100,
   "metadata": {},
   "outputs": [
    {
     "name": "stdout",
     "output_type": "stream",
     "text": [
      "Model: \"functional_13\"\n",
      "_________________________________________________________________\n",
      "Layer (type)                 Output Shape              Param #   \n",
      "=================================================================\n",
      "input_27 (InputLayer)        [(None, None)]            0         \n",
      "_________________________________________________________________\n",
      "embedding_8 (Embedding)      (None, None, 50)          143250    \n",
      "_________________________________________________________________\n",
      "lstm_12 (LSTM)               [(None, 64), (None, 64),  29440     \n",
      "=================================================================\n",
      "Total params: 172,690\n",
      "Trainable params: 172,690\n",
      "Non-trainable params: 0\n",
      "_________________________________________________________________\n"
     ]
    }
   ],
   "source": [
    "encoder_model = Model(encoder_inputs, encoder_states)\n",
    "encoder_model.summary()"
   ]
  },
  {
   "cell_type": "code",
   "execution_count": 101,
   "metadata": {},
   "outputs": [
    {
     "name": "stdout",
     "output_type": "stream",
     "text": [
      "Tensor(\"embedding_9/embedding_lookup_1/Identity_1:0\", shape=(None, None, 50), dtype=float32)\n"
     ]
    }
   ],
   "source": [
    "# Redefine the decoder model with decoder will be getting below inputs from encoder while in prediction\n",
    "decoder_state_input_h = Input(shape=(latent_dim,))\n",
    "decoder_state_input_c = Input(shape=(latent_dim,))\n",
    "decoder_states_inputs = [decoder_state_input_h, decoder_state_input_c]\n",
    "\n",
    "final_dex2= dex(decoder_inputs)\n",
    "print(final_dex2)\n",
    "decoder_outputs2, state_h2, state_c2 = decoder_lstm(final_dex2, initial_state=decoder_states_inputs)\n",
    "decoder_states2 = [state_h2, state_c2]\n",
    "decoder_outputs2 = decoder_dense(decoder_outputs2)\n",
    "\n",
    "# sampling model will take encoder states and decoder_input(seed initially) and output the predictions(french word index) We dont care about decoder_states2\n",
    "decoder_model = Model(\n",
    "    [decoder_inputs] + decoder_states_inputs,\n",
    "    [decoder_outputs2] + decoder_states2)"
   ]
  },
  {
   "cell_type": "code",
   "execution_count": 102,
   "metadata": {},
   "outputs": [],
   "source": [
    "# Reverse-lookup token index to decode sequences back to something readable.\n",
    "reverse_input_char_index = dict(\n",
    "    (i, char) for char, i in input_token_index.items())\n",
    "reverse_target_char_index = dict(\n",
    "    (i, char) for char, i in target_token_index.items())"
   ]
  },
  {
   "cell_type": "code",
   "execution_count": 103,
   "metadata": {},
   "outputs": [],
   "source": [
    "def decode_sequence(input_seq):\n",
    "    # Encode the input as state vectors.\n",
    "    states_value = encoder_model.predict(input_seq)\n",
    "    # Generate empty target sequence of length 1.\n",
    "    target_seq = np.zeros((1,1))\n",
    "    # Populate the first character of target sequence with the start character.\n",
    "    target_seq[0, 0] = target_token_index['<sos>']\n",
    "    # Sampling loop for a batch of sequences\n",
    "    # (to simplify, here we assume a batch of size 1).\n",
    "    stop_condition = False\n",
    "    decoded_sentence = ''\n",
    "    \n",
    "    while not stop_condition:\n",
    "        output_tokens, h, c = decoder_model.predict(\n",
    "            [target_seq] + states_value)\n",
    "       \n",
    "        # Sample a token\n",
    "        sampled_token_index = np.argmax(output_tokens[0, -1, :])\n",
    "        sampled_char = reverse_target_char_index[sampled_token_index]\n",
    "        decoded_sentence += ' '+sampled_char\n",
    "        # Exit condition: either hit max length or find stop character.\n",
    "        if (sampled_char == '<eos>' or\n",
    "           len(decoded_sentence) > 52):\n",
    "            stop_condition = True\n",
    "        \n",
    "        # Update the target sequence (of length 1).\n",
    "        target_seq = np.zeros((1,1))\n",
    "        target_seq[0, 0] = sampled_token_index\n",
    "        \n",
    "        # Update states\n",
    "        states_value = [h, c]\n",
    "    return decoded_sentence"
   ]
  },
  {
   "cell_type": "code",
   "execution_count": 104,
   "metadata": {},
   "outputs": [
    {
     "name": "stdout",
     "output_type": "stream",
     "text": [
      "-\n",
      "Input sentence: big old tree being photographed on a sunny day\n",
      "Decoded sentence:  the kids were very excited to the crowd of the porch\n",
      "-\n",
      "Input sentence: a old curvy tree in the sun light \n",
      "Decoded sentence:  the kids were very excited to the crowd of the porch\n",
      "-\n",
      "Input sentence: a person is taking a picture of a large tree and you can see their shadow\n",
      "Decoded sentence:  the kids were very excited to the crowd of the porch\n",
      "-\n",
      "Input sentence: large tree with many outstretching branches and leaves \n",
      "Decoded sentence:  the kids were very excited to the crowd of the porch\n",
      "-\n",
      "Input sentence: a green sign is describing a historic tree and the rules for visiting it \n",
      "Decoded sentence:  the kids were very excited to the crowd of the porch\n",
      "-\n",
      "Input sentence: a large tree with roots that look like crocodile tails \n",
      "Decoded sentence:  the kids were very excited to the crowd of the porch\n",
      "-\n",
      "Input sentence: big old tree being photographed on a sunny day\n",
      "Decoded sentence:  the kids were very excited to the crowd of the porch\n",
      "-\n",
      "Input sentence: huge brown tree roots rose above the ground \n",
      "Decoded sentence:  we went to the city for our city <eos>\n",
      "-\n",
      "Input sentence: a large tree with many branches coming out\n",
      "Decoded sentence:  the kids were very excited to the crowd of the center\n",
      "-\n",
      "Input sentence: a plaque describes an historical tree and advises visitors to not climb it \n",
      "Decoded sentence:  the kids were very excited to the crowd of the porch\n",
      "-\n",
      "Input sentence: a tree has spread its roots high and wide across the ground \n",
      "Decoded sentence:  the kids were very excited to the crowd of the porch\n",
      "-\n",
      "Input sentence: a old curvy tree in the sun light \n",
      "Decoded sentence:  the kids were very excited to the crowd of the porch\n",
      "-\n",
      "Input sentence: some trees that are surrounded by apartment buildings \n",
      "Decoded sentence:  we went to the city for our city <eos>\n",
      "-\n",
      "Input sentence: the tree has very long and dated branches \n",
      "Decoded sentence:  the kids were very excited to the crowd of the porch\n",
      "-\n",
      "Input sentence: a plaque on a stand surround by died leaves off a tree \n",
      "Decoded sentence:  the kids were very excited to the crowd of the porch\n",
      "-\n",
      "Input sentence: a huge tree sits outside with several large roots stemming from the trunk \n",
      "Decoded sentence:  the kids were very excited to the crowd of the porch\n",
      "-\n",
      "Input sentence: a person is taking a picture of a large tree and you can see their shadow\n",
      "Decoded sentence:  the kids were very excited to the crowd of the porch\n",
      "-\n",
      "Input sentence: various parts of the tree are growing out from the ground \n",
      "Decoded sentence:  we went to the city for our city <eos>\n",
      "-\n",
      "Input sentence: big old tree being photographed on a sunny day\n",
      "Decoded sentence:  the kids were very excited to the crowd of the porch\n",
      "-\n",
      "Input sentence: a old curvy tree in the sun light \n",
      "Decoded sentence:  the kids were very excited to the crowd of the porch\n",
      "-\n",
      "Input sentence: a person is taking a picture of a large tree and you can see their shadow\n",
      "Decoded sentence:  the kids were very excited to the crowd of the porch\n",
      "-\n",
      "Input sentence: large tree with many outstretching branches and leaves \n",
      "Decoded sentence:  the kids were very excited to the crowd of the porch\n",
      "-\n",
      "Input sentence: a green sign is describing a historic tree and the rules for visiting it \n",
      "Decoded sentence:  the kids were very excited to the crowd of the porch\n",
      "-\n",
      "Input sentence: a large tree with roots that look like crocodile tails \n",
      "Decoded sentence:  the kids were very excited to the crowd of the porch\n",
      "-\n",
      "Input sentence: big old tree being photographed on a sunny day\n",
      "Decoded sentence:  the kids were very excited to the crowd of the porch\n",
      "-\n",
      "Input sentence: huge brown tree roots rose above the ground \n",
      "Decoded sentence:  we went to the city for our city <eos>\n",
      "-\n",
      "Input sentence: a large tree with many branches coming out\n",
      "Decoded sentence:  the kids were very excited to the crowd of the center\n",
      "-\n",
      "Input sentence: a plaque describes an historical tree and advises visitors to not climb it \n",
      "Decoded sentence:  the kids were very excited to the crowd of the porch\n",
      "-\n",
      "Input sentence: a tree has spread its roots high and wide across the ground \n",
      "Decoded sentence:  the kids were very excited to the crowd of the porch\n",
      "-\n",
      "Input sentence: a old curvy tree in the sun light \n",
      "Decoded sentence:  the kids were very excited to the crowd of the porch\n",
      "-\n",
      "Input sentence: some trees that are surrounded by apartment buildings \n",
      "Decoded sentence:  we went to the city for our city <eos>\n",
      "-\n",
      "Input sentence: the tree has very long and dated branches \n",
      "Decoded sentence:  the kids were very excited to the crowd of the porch\n",
      "-\n",
      "Input sentence: a plaque on a stand surround by died leaves off a tree \n",
      "Decoded sentence:  the kids were very excited to the crowd of the porch\n",
      "-\n",
      "Input sentence: a huge tree sits outside with several large roots stemming from the trunk \n",
      "Decoded sentence:  the kids were very excited to the crowd of the porch\n",
      "-\n",
      "Input sentence: a person is taking a picture of a large tree and you can see their shadow\n",
      "Decoded sentence:  the kids were very excited to the crowd of the porch\n",
      "-\n",
      "Input sentence: various parts of the tree are growing out from the ground \n",
      "Decoded sentence:  we went to the city for our city <eos>\n",
      "-\n",
      "Input sentence: large tree with many outstretching branches and leaves \n",
      "Decoded sentence:  the kids were very excited to the crowd of the porch\n",
      "-\n",
      "Input sentence: a green sign is describing a historic tree and the rules for visiting it \n",
      "Decoded sentence:  the kids were very excited to the crowd of the porch\n",
      "-\n",
      "Input sentence: a large tree with roots that look like crocodile tails \n",
      "Decoded sentence:  the kids were very excited to the crowd of the porch\n",
      "-\n",
      "Input sentence: big old tree being photographed on a sunny day\n",
      "Decoded sentence:  the kids were very excited to the crowd of the porch\n",
      "-\n",
      "Input sentence: huge brown tree roots rose above the ground \n",
      "Decoded sentence:  we went to the city for our city <eos>\n",
      "-\n",
      "Input sentence: a large tree with many branches coming out\n",
      "Decoded sentence:  the kids were very excited to the crowd of the center\n",
      "-\n",
      "Input sentence: a plaque describes an historical tree and advises visitors to not climb it \n",
      "Decoded sentence:  the kids were very excited to the crowd of the porch\n",
      "-\n",
      "Input sentence: a tree has spread its roots high and wide across the ground \n",
      "Decoded sentence:  the kids were very excited to the crowd of the porch\n",
      "-\n",
      "Input sentence: a old curvy tree in the sun light \n",
      "Decoded sentence:  the kids were very excited to the crowd of the porch\n",
      "-\n",
      "Input sentence: some trees that are surrounded by apartment buildings \n",
      "Decoded sentence:  we went to the city for our city <eos>\n",
      "-\n",
      "Input sentence: the tree has very long and dated branches \n",
      "Decoded sentence:  the kids were very excited to the crowd of the porch\n",
      "-\n",
      "Input sentence: a plaque on a stand surround by died leaves off a tree \n",
      "Decoded sentence:  the kids were very excited to the crowd of the porch\n",
      "-\n",
      "Input sentence: a huge tree sits outside with several large roots stemming from the trunk \n",
      "Decoded sentence:  the kids were very excited to the crowd of the porch\n",
      "-\n",
      "Input sentence: a person is taking a picture of a large tree and you can see their shadow\n",
      "Decoded sentence:  the kids were very excited to the crowd of the porch\n",
      "-\n",
      "Input sentence: various parts of the tree are growing out from the ground \n",
      "Decoded sentence:  we went to the city for our city <eos>\n",
      "-\n",
      "Input sentence: a sculpture of two people sitting at the base of a light is outside near some foliage \n",
      "Decoded sentence:  the kids were very excited to the crowd of the center\n",
      "-\n",
      "Input sentence: an old brick church taken from the ground looking up \n",
      "Decoded sentence:  the kids were very excited to the crowd of the center\n",
      "-\n",
      "Input sentence: the colorful flowers are the showcase of the foliage\n",
      "Decoded sentence:  the kids were very excited to the crowd of the porch\n",
      "-\n",
      "Input sentence: a bunch of floating heads in the middle of a building \n",
      "Decoded sentence:  we had a great time to the park for the kids in the city\n",
      "-\n",
      "Input sentence: a delicious looking pastry with gravy cauliflower and roasted carrots \n",
      "Decoded sentence:  the dog is very tired and had had <eos>\n",
      "-\n",
      "Input sentence: large grey statue of two people sitting outside \n",
      "Decoded sentence:  the kids were very excited to the crowd of the center\n",
      "-\n",
      "Input sentence: a castle type structure with lots of windows \n",
      "Decoded sentence:  the kids were very excited to the crowd of the porch\n",
      "-\n",
      "Input sentence: a close up shot of pink flowers with bright backlighting from the sun \n",
      "Decoded sentence:  the kids were very excited to the crowd of the porch\n",
      "-\n",
      "Input sentence: many model heads hang from strings in a large hall \n",
      "Decoded sentence:  we had a great time for the kids in the park <eos>\n",
      "-\n",
      "Input sentence: a plate of biscuits and gravy with cauliflower and carrots \n",
      "Decoded sentence:  the dog is very tired and had had <eos>\n",
      "-\n",
      "Input sentence: a statue of two ancient figures sitting under a light\n",
      "Decoded sentence:  the kids were very excited to the crowd of the center\n",
      "-\n",
      "Input sentence: the outside of a large brown gothic building \n",
      "Decoded sentence:  the kids were very excited to the crowd of the porch\n",
      "-\n",
      "Input sentence: a bumble bee in a pink flower with blue sky in the background \n",
      "Decoded sentence:  the kids were very excited to the crowd of the porch\n",
      "-\n",
      "Input sentence: several white heads hanging from the ceiling in a building \n",
      "Decoded sentence:  we had a great time to the park for the kids in the city\n",
      "-\n",
      "Input sentence: a breaded food sits next to potatoes and vegetables on a plate \n",
      "Decoded sentence:  the dog was very tired and had had <eos>\n",
      "-\n",
      "Input sentence: a sculpture of two people sitting at the base of a light is outside near some foliage \n",
      "Decoded sentence:  the kids were very excited to the crowd of the center\n",
      "-\n",
      "Input sentence: a delicious looking pastry with gravy cauliflower and roasted carrots \n",
      "Decoded sentence:  the dog is very tired and had had <eos>\n",
      "-\n",
      "Input sentence: large grey statue of two people sitting outside \n",
      "Decoded sentence:  the kids were very excited to the crowd of the center\n",
      "-\n",
      "Input sentence: a plate of biscuits and gravy with cauliflower and carrots \n",
      "Decoded sentence:  the dog is very tired and had had <eos>\n",
      "-\n",
      "Input sentence: a statue of two ancient figures sitting under a light\n",
      "Decoded sentence:  the kids were very excited to the crowd of the center\n",
      "-\n",
      "Input sentence: a breaded food sits next to potatoes and vegetables on a plate \n",
      "Decoded sentence:  the dog was very tired and had had <eos>\n",
      "-\n",
      "Input sentence: a sculpture of two people sitting at the base of a light is outside near some foliage \n",
      "Decoded sentence:  the kids were very excited to the crowd of the center\n",
      "-\n",
      "Input sentence: an old brick church taken from the ground looking up \n",
      "Decoded sentence:  the kids were very excited to the crowd of the center\n",
      "-\n",
      "Input sentence: the colorful flowers are the showcase of the foliage\n",
      "Decoded sentence:  the kids were very excited to the crowd of the porch\n",
      "-\n",
      "Input sentence: a bunch of floating heads in the middle of a building \n",
      "Decoded sentence:  we had a great time to the park for the kids in the city\n",
      "-\n",
      "Input sentence: a delicious looking pastry with gravy cauliflower and roasted carrots \n",
      "Decoded sentence:  the dog is very tired and had had <eos>\n",
      "-\n",
      "Input sentence: large grey statue of two people sitting outside \n",
      "Decoded sentence:  the kids were very excited to the crowd of the center\n",
      "-\n",
      "Input sentence: a castle type structure with lots of windows \n",
      "Decoded sentence:  the kids were very excited to the crowd of the porch\n",
      "-\n",
      "Input sentence: a close up shot of pink flowers with bright backlighting from the sun \n",
      "Decoded sentence:  the kids were very excited to the crowd of the porch\n",
      "-\n",
      "Input sentence: many model heads hang from strings in a large hall \n",
      "Decoded sentence:  we had a great time for the kids in the park <eos>\n",
      "-\n",
      "Input sentence: a plate of biscuits and gravy with cauliflower and carrots \n",
      "Decoded sentence:  the dog is very tired and had had <eos>\n",
      "-\n",
      "Input sentence: a statue of two ancient figures sitting under a light\n",
      "Decoded sentence:  the kids were very excited to the crowd of the center\n",
      "-\n",
      "Input sentence: the outside of a large brown gothic building \n",
      "Decoded sentence:  the kids were very excited to the crowd of the porch\n",
      "-\n",
      "Input sentence: a bumble bee in a pink flower with blue sky in the background \n",
      "Decoded sentence:  the kids were very excited to the crowd of the porch\n",
      "-\n",
      "Input sentence: several white heads hanging from the ceiling in a building \n",
      "Decoded sentence:  we had a great time to the park for the kids in the city\n",
      "-\n",
      "Input sentence: a breaded food sits next to potatoes and vegetables on a plate \n",
      "Decoded sentence:  the dog was very tired and had had <eos>\n",
      "-\n",
      "Input sentence: a sculpture of two people sitting at the base of a light is outside near some foliage \n",
      "Decoded sentence:  the kids were very excited to the crowd of the center\n",
      "-\n",
      "Input sentence: an old brick church taken from the ground looking up \n",
      "Decoded sentence:  the kids were very excited to the crowd of the center\n",
      "-\n",
      "Input sentence: the colorful flowers are the showcase of the foliage\n",
      "Decoded sentence:  the kids were very excited to the crowd of the porch\n",
      "-\n",
      "Input sentence: a bunch of floating heads in the middle of a building \n",
      "Decoded sentence:  we had a great time to the park for the kids in the city\n",
      "-\n",
      "Input sentence: a delicious looking pastry with gravy cauliflower and roasted carrots \n",
      "Decoded sentence:  the dog is very tired and had had <eos>\n",
      "-\n",
      "Input sentence: large grey statue of two people sitting outside \n",
      "Decoded sentence:  the kids were very excited to the crowd of the center\n",
      "-\n",
      "Input sentence: a castle type structure with lots of windows \n",
      "Decoded sentence:  the kids were very excited to the crowd of the porch\n",
      "-\n",
      "Input sentence: a close up shot of pink flowers with bright backlighting from the sun \n",
      "Decoded sentence:  the kids were very excited to the crowd of the porch\n",
      "-\n",
      "Input sentence: many model heads hang from strings in a large hall \n",
      "Decoded sentence:  we had a great time for the kids in the park <eos>\n",
      "-\n",
      "Input sentence: a plate of biscuits and gravy with cauliflower and carrots \n",
      "Decoded sentence:  the dog is very tired and had had <eos>\n",
      "-\n",
      "Input sentence: a statue of two ancient figures sitting under a light\n",
      "Decoded sentence:  the kids were very excited to the crowd of the center\n",
      "-\n",
      "Input sentence: the outside of a large brown gothic building \n",
      "Decoded sentence:  the kids were very excited to the crowd of the porch\n",
      "-\n",
      "Input sentence: a bumble bee in a pink flower with blue sky in the background \n",
      "Decoded sentence:  the kids were very excited to the crowd of the porch\n"
     ]
    }
   ],
   "source": [
    "for seq_index in range(100):\n",
    "    # Take one sequence (part of the training set)\n",
    "    # for trying out decoding.\n",
    "    input_seq = encoder_input_data[seq_index: seq_index + 1]\n",
    "    decoded_sentence = decode_sequence(input_seq)\n",
    "    print('-')\n",
    "    print('Input sentence:', clean_data['in_desc'][seq_index])\n",
    "    print('Decoded sentence:', decoded_sentence)"
   ]
  },
  {
   "cell_type": "markdown",
   "metadata": {},
   "source": [
    "---\n",
    "- epoch 를 줄여야 어느정도 학습 가능\n",
    "- input에 대응하는 output pair 가 너무 많아서 성능이 안좋은게아닐까? => input : output 1대1 대응만 남기기"
   ]
  },
  {
   "cell_type": "code",
   "execution_count": null,
   "metadata": {},
   "outputs": [],
   "source": []
  }
 ],
 "metadata": {
  "kernelspec": {
   "display_name": "Python 3",
   "language": "python",
   "name": "python3"
  },
  "language_info": {
   "codemirror_mode": {
    "name": "ipython",
    "version": 3
   },
   "file_extension": ".py",
   "mimetype": "text/x-python",
   "name": "python",
   "nbconvert_exporter": "python",
   "pygments_lexer": "ipython3",
   "version": "3.6.10"
  },
  "toc": {
   "base_numbering": 1,
   "nav_menu": {},
   "number_sections": true,
   "sideBar": true,
   "skip_h1_title": false,
   "title_cell": "Table of Contents",
   "title_sidebar": "Contents",
   "toc_cell": false,
   "toc_position": {},
   "toc_section_display": true,
   "toc_window_display": false
  },
  "varInspector": {
   "cols": {
    "lenName": 16,
    "lenType": 16,
    "lenVar": 40
   },
   "kernels_config": {
    "python": {
     "delete_cmd_postfix": "",
     "delete_cmd_prefix": "del ",
     "library": "var_list.py",
     "varRefreshCmd": "print(var_dic_list())"
    },
    "r": {
     "delete_cmd_postfix": ") ",
     "delete_cmd_prefix": "rm(",
     "library": "var_list.r",
     "varRefreshCmd": "cat(var_dic_list()) "
    }
   },
   "types_to_exclude": [
    "module",
    "function",
    "builtin_function_or_method",
    "instance",
    "_Feature"
   ],
   "window_display": false
  }
 },
 "nbformat": 4,
 "nbformat_minor": 4
}
